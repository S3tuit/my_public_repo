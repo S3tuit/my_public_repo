{
 "cells": [
  {
   "cell_type": "markdown",
   "metadata": {},
   "source": [
    "<center>\n",
    "    <img src=\"https://cf-courses-data.s3.us.cloud-object-storage.appdomain.cloud/IBMDeveloperSkillsNetwork-DS0105EN-SkillsNetwork/labs/Module2/images/SN_web_lightmode.png\" width=\"300\" alt=\"cognitiveclass.ai logo\">\n",
    "</center>\n"
   ]
  },
  {
   "cell_type": "markdown",
   "metadata": {},
   "source": [
    "#### Add your code below following the instructions given in the course\n"
   ]
  },
  {
   "cell_type": "markdown",
   "metadata": {},
   "source": [
    "# The Best Christmas Singer\n"
   ]
  },
  {
   "cell_type": "markdown",
   "metadata": {},
   "source": [
    "Hi Coursera fellows. I just love Christmas songs... don't know why, but they make me happy. \n",
    "\n",
    "So, this notebook analyzes the artists with the most \"Christmas hits\" in a dataset provided by Tidy Tuesday."
   ]
  },
  {
   "cell_type": "code",
   "execution_count": 1,
   "metadata": {
    "tags": []
   },
   "outputs": [
    {
     "name": "stderr",
     "output_type": "stream",
     "text": [
      "Parsed with column specification:\n",
      "cols(\n",
      "  url = col_character(),\n",
      "  weekid = col_character(),\n",
      "  week_position = col_double(),\n",
      "  song = col_character(),\n",
      "  performer = col_character(),\n",
      "  songid = col_character(),\n",
      "  instance = col_double(),\n",
      "  previous_week_position = col_double(),\n",
      "  peak_position = col_double(),\n",
      "  weeks_on_chart = col_double(),\n",
      "  year = col_double(),\n",
      "  month = col_double(),\n",
      "  day = col_double()\n",
      ")\n"
     ]
    },
    {
     "data": {
      "text/html": [
       "<table>\n",
       "<caption>A tibble: 5 × 13</caption>\n",
       "<thead>\n",
       "\t<tr><th scope=col>url</th><th scope=col>weekid</th><th scope=col>week_position</th><th scope=col>song</th><th scope=col>performer</th><th scope=col>songid</th><th scope=col>instance</th><th scope=col>previous_week_position</th><th scope=col>peak_position</th><th scope=col>weeks_on_chart</th><th scope=col>year</th><th scope=col>month</th><th scope=col>day</th></tr>\n",
       "\t<tr><th scope=col>&lt;chr&gt;</th><th scope=col>&lt;chr&gt;</th><th scope=col>&lt;dbl&gt;</th><th scope=col>&lt;chr&gt;</th><th scope=col>&lt;chr&gt;</th><th scope=col>&lt;chr&gt;</th><th scope=col>&lt;dbl&gt;</th><th scope=col>&lt;dbl&gt;</th><th scope=col>&lt;dbl&gt;</th><th scope=col>&lt;dbl&gt;</th><th scope=col>&lt;dbl&gt;</th><th scope=col>&lt;dbl&gt;</th><th scope=col>&lt;dbl&gt;</th></tr>\n",
       "</thead>\n",
       "<tbody>\n",
       "\t<tr><td>http://www.billboard.com/charts/hot-100/1958-12-13</td><td>12/13/1958</td><td>83</td><td>RUN RUDOLPH RUN </td><td>Chuck Berry </td><td>Run Rudolph RunChuck Berry </td><td>1</td><td>NA</td><td>69</td><td> 3</td><td>1958</td><td>12</td><td>13</td></tr>\n",
       "\t<tr><td>http://www.billboard.com/charts/hot-100/1958-12-20</td><td>12/20/1958</td><td>57</td><td>JINGLE BELL ROCK</td><td>Bobby Helms </td><td>Jingle Bell RockBobby Helms</td><td>1</td><td>NA</td><td>29</td><td>19</td><td>1958</td><td>12</td><td>20</td></tr>\n",
       "\t<tr><td>http://www.billboard.com/charts/hot-100/1958-12-20</td><td>12/20/1958</td><td>73</td><td>RUN RUDOLPH RUN </td><td>Chuck Berry </td><td>Run Rudolph RunChuck Berry </td><td>1</td><td>83</td><td>69</td><td> 3</td><td>1958</td><td>12</td><td>20</td></tr>\n",
       "\t<tr><td>http://www.billboard.com/charts/hot-100/1958-12-20</td><td>12/20/1958</td><td>86</td><td>WHITE CHRISTMAS </td><td>Bing Crosby </td><td>White ChristmasBing Crosby </td><td>1</td><td>NA</td><td>12</td><td>13</td><td>1958</td><td>12</td><td>20</td></tr>\n",
       "\t<tr><td>http://www.billboard.com/charts/hot-100/1958-12-27</td><td>12/27/1958</td><td>44</td><td>GREEN CHRI$TMA$ </td><td>Stan Freberg</td><td>Green Chri$tma$Stan Freberg</td><td>1</td><td>NA</td><td>44</td><td> 2</td><td>1958</td><td>12</td><td>27</td></tr>\n",
       "</tbody>\n",
       "</table>\n"
      ],
      "text/latex": [
       "A tibble: 5 × 13\n",
       "\\begin{tabular}{lllllllllllll}\n",
       " url & weekid & week\\_position & song & performer & songid & instance & previous\\_week\\_position & peak\\_position & weeks\\_on\\_chart & year & month & day\\\\\n",
       " <chr> & <chr> & <dbl> & <chr> & <chr> & <chr> & <dbl> & <dbl> & <dbl> & <dbl> & <dbl> & <dbl> & <dbl>\\\\\n",
       "\\hline\n",
       "\t http://www.billboard.com/charts/hot-100/1958-12-13 & 12/13/1958 & 83 & RUN RUDOLPH RUN  & Chuck Berry  & Run Rudolph RunChuck Berry  & 1 & NA & 69 &  3 & 1958 & 12 & 13\\\\\n",
       "\t http://www.billboard.com/charts/hot-100/1958-12-20 & 12/20/1958 & 57 & JINGLE BELL ROCK & Bobby Helms  & Jingle Bell RockBobby Helms & 1 & NA & 29 & 19 & 1958 & 12 & 20\\\\\n",
       "\t http://www.billboard.com/charts/hot-100/1958-12-20 & 12/20/1958 & 73 & RUN RUDOLPH RUN  & Chuck Berry  & Run Rudolph RunChuck Berry  & 1 & 83 & 69 &  3 & 1958 & 12 & 20\\\\\n",
       "\t http://www.billboard.com/charts/hot-100/1958-12-20 & 12/20/1958 & 86 & WHITE CHRISTMAS  & Bing Crosby  & White ChristmasBing Crosby  & 1 & NA & 12 & 13 & 1958 & 12 & 20\\\\\n",
       "\t http://www.billboard.com/charts/hot-100/1958-12-27 & 12/27/1958 & 44 & GREEN CHRI\\$TMA\\$  & Stan Freberg & Green Chri\\$tma\\$Stan Freberg & 1 & NA & 44 &  2 & 1958 & 12 & 27\\\\\n",
       "\\end{tabular}\n"
      ],
      "text/markdown": [
       "\n",
       "A tibble: 5 × 13\n",
       "\n",
       "| url &lt;chr&gt; | weekid &lt;chr&gt; | week_position &lt;dbl&gt; | song &lt;chr&gt; | performer &lt;chr&gt; | songid &lt;chr&gt; | instance &lt;dbl&gt; | previous_week_position &lt;dbl&gt; | peak_position &lt;dbl&gt; | weeks_on_chart &lt;dbl&gt; | year &lt;dbl&gt; | month &lt;dbl&gt; | day &lt;dbl&gt; |\n",
       "|---|---|---|---|---|---|---|---|---|---|---|---|---|\n",
       "| http://www.billboard.com/charts/hot-100/1958-12-13 | 12/13/1958 | 83 | RUN RUDOLPH RUN  | Chuck Berry  | Run Rudolph RunChuck Berry  | 1 | NA | 69 |  3 | 1958 | 12 | 13 |\n",
       "| http://www.billboard.com/charts/hot-100/1958-12-20 | 12/20/1958 | 57 | JINGLE BELL ROCK | Bobby Helms  | Jingle Bell RockBobby Helms | 1 | NA | 29 | 19 | 1958 | 12 | 20 |\n",
       "| http://www.billboard.com/charts/hot-100/1958-12-20 | 12/20/1958 | 73 | RUN RUDOLPH RUN  | Chuck Berry  | Run Rudolph RunChuck Berry  | 1 | 83 | 69 |  3 | 1958 | 12 | 20 |\n",
       "| http://www.billboard.com/charts/hot-100/1958-12-20 | 12/20/1958 | 86 | WHITE CHRISTMAS  | Bing Crosby  | White ChristmasBing Crosby  | 1 | NA | 12 | 13 | 1958 | 12 | 20 |\n",
       "| http://www.billboard.com/charts/hot-100/1958-12-27 | 12/27/1958 | 44 | GREEN CHRI$TMA$  | Stan Freberg | Green Chri$tma$Stan Freberg | 1 | NA | 44 |  2 | 1958 | 12 | 27 |\n",
       "\n"
      ],
      "text/plain": [
       "  url                                                weekid     week_position\n",
       "1 http://www.billboard.com/charts/hot-100/1958-12-13 12/13/1958 83           \n",
       "2 http://www.billboard.com/charts/hot-100/1958-12-20 12/20/1958 57           \n",
       "3 http://www.billboard.com/charts/hot-100/1958-12-20 12/20/1958 73           \n",
       "4 http://www.billboard.com/charts/hot-100/1958-12-20 12/20/1958 86           \n",
       "5 http://www.billboard.com/charts/hot-100/1958-12-27 12/27/1958 44           \n",
       "  song             performer    songid                      instance\n",
       "1 RUN RUDOLPH RUN  Chuck Berry  Run Rudolph RunChuck Berry  1       \n",
       "2 JINGLE BELL ROCK Bobby Helms  Jingle Bell RockBobby Helms 1       \n",
       "3 RUN RUDOLPH RUN  Chuck Berry  Run Rudolph RunChuck Berry  1       \n",
       "4 WHITE CHRISTMAS  Bing Crosby  White ChristmasBing Crosby  1       \n",
       "5 GREEN CHRI$TMA$  Stan Freberg Green Chri$tma$Stan Freberg 1       \n",
       "  previous_week_position peak_position weeks_on_chart year month day\n",
       "1 NA                     69             3             1958 12    13 \n",
       "2 NA                     29            19             1958 12    20 \n",
       "3 83                     69             3             1958 12    20 \n",
       "4 NA                     12            13             1958 12    20 \n",
       "5 NA                     44             2             1958 12    27 "
      ]
     },
     "metadata": {},
     "output_type": "display_data"
    }
   ],
   "source": [
    "# We start by importing the dataset and viewing 5 sample rows\n",
    "\n",
    "christmas_songs <- readr::read_csv(\"https://raw.githubusercontent.com/rfordatascience/tidytuesday/master/data/2019/2019-12-24/christmas_songs.csv\")\n",
    "\n",
    "head(christmas_songs, 5)"
   ]
  },
  {
   "cell_type": "code",
   "execution_count": 2,
   "metadata": {
    "tags": []
   },
   "outputs": [
    {
     "name": "stdout",
     "output_type": "stream",
     "text": [
      "[1] 100\n",
      "[1] 7\n"
     ]
    }
   ],
   "source": [
    "# Here we find out the max and min value of \"week_position.\" A higher week_position means a more popular song (strnage, I know)\n",
    "\n",
    "print(max_value <- max(christmas_songs$week_position))\n",
    "print(min_value <- min(christmas_songs$week_position))"
   ]
  },
  {
   "cell_type": "code",
   "execution_count": 3,
   "metadata": {
    "tags": []
   },
   "outputs": [
    {
     "name": "stderr",
     "output_type": "stream",
     "text": [
      "\n",
      "Attaching package: ‘dplyr’\n",
      "\n",
      "The following objects are masked from ‘package:stats’:\n",
      "\n",
      "    filter, lag\n",
      "\n",
      "The following objects are masked from ‘package:base’:\n",
      "\n",
      "    intersect, setdiff, setequal, union\n",
      "\n"
     ]
    }
   ],
   "source": [
    "# Here we import a library that will help us keep just the columns we're interested in performer and week_position (higher = better)\n",
    "library(dplyr)"
   ]
  },
  {
   "cell_type": "code",
   "execution_count": 4,
   "metadata": {
    "tags": []
   },
   "outputs": [
    {
     "data": {
      "text/html": [
       "<table>\n",
       "<caption>A tibble: 5 × 2</caption>\n",
       "<thead>\n",
       "\t<tr><th scope=col>performer</th><th scope=col>week_position</th></tr>\n",
       "\t<tr><th scope=col>&lt;chr&gt;</th><th scope=col>&lt;dbl&gt;</th></tr>\n",
       "</thead>\n",
       "<tbody>\n",
       "\t<tr><td>Chuck Berry </td><td>83</td></tr>\n",
       "\t<tr><td>Bobby Helms </td><td>57</td></tr>\n",
       "\t<tr><td>Chuck Berry </td><td>73</td></tr>\n",
       "\t<tr><td>Bing Crosby </td><td>86</td></tr>\n",
       "\t<tr><td>Stan Freberg</td><td>44</td></tr>\n",
       "</tbody>\n",
       "</table>\n"
      ],
      "text/latex": [
       "A tibble: 5 × 2\n",
       "\\begin{tabular}{ll}\n",
       " performer & week\\_position\\\\\n",
       " <chr> & <dbl>\\\\\n",
       "\\hline\n",
       "\t Chuck Berry  & 83\\\\\n",
       "\t Bobby Helms  & 57\\\\\n",
       "\t Chuck Berry  & 73\\\\\n",
       "\t Bing Crosby  & 86\\\\\n",
       "\t Stan Freberg & 44\\\\\n",
       "\\end{tabular}\n"
      ],
      "text/markdown": [
       "\n",
       "A tibble: 5 × 2\n",
       "\n",
       "| performer &lt;chr&gt; | week_position &lt;dbl&gt; |\n",
       "|---|---|\n",
       "| Chuck Berry  | 83 |\n",
       "| Bobby Helms  | 57 |\n",
       "| Chuck Berry  | 73 |\n",
       "| Bing Crosby  | 86 |\n",
       "| Stan Freberg | 44 |\n",
       "\n"
      ],
      "text/plain": [
       "  performer    week_position\n",
       "1 Chuck Berry  83           \n",
       "2 Bobby Helms  57           \n",
       "3 Chuck Berry  73           \n",
       "4 Bing Crosby  86           \n",
       "5 Stan Freberg 44           "
      ]
     },
     "metadata": {},
     "output_type": "display_data"
    }
   ],
   "source": [
    "new_songs <- christmas_songs %>%\n",
    "  select(performer, week_position)\n",
    "head(new_songs, 5)"
   ]
  },
  {
   "cell_type": "code",
   "execution_count": 5,
   "metadata": {
    "tags": []
   },
   "outputs": [
    {
     "data": {
      "text/html": [
       "<table>\n",
       "<caption>A tibble: 3 × 2</caption>\n",
       "<thead>\n",
       "\t<tr><th scope=col>Singer</th><th scope=col>Position</th></tr>\n",
       "\t<tr><th scope=col>&lt;chr&gt;</th><th scope=col>&lt;dbl&gt;</th></tr>\n",
       "</thead>\n",
       "<tbody>\n",
       "\t<tr><td>Chuck Berry</td><td>83</td></tr>\n",
       "\t<tr><td>Bobby Helms</td><td>57</td></tr>\n",
       "\t<tr><td>Chuck Berry</td><td>73</td></tr>\n",
       "</tbody>\n",
       "</table>\n"
      ],
      "text/latex": [
       "A tibble: 3 × 2\n",
       "\\begin{tabular}{ll}\n",
       " Singer & Position\\\\\n",
       " <chr> & <dbl>\\\\\n",
       "\\hline\n",
       "\t Chuck Berry & 83\\\\\n",
       "\t Bobby Helms & 57\\\\\n",
       "\t Chuck Berry & 73\\\\\n",
       "\\end{tabular}\n"
      ],
      "text/markdown": [
       "\n",
       "A tibble: 3 × 2\n",
       "\n",
       "| Singer &lt;chr&gt; | Position &lt;dbl&gt; |\n",
       "|---|---|\n",
       "| Chuck Berry | 83 |\n",
       "| Bobby Helms | 57 |\n",
       "| Chuck Berry | 73 |\n",
       "\n"
      ],
      "text/plain": [
       "  Singer      Position\n",
       "1 Chuck Berry 83      \n",
       "2 Bobby Helms 57      \n",
       "3 Chuck Berry 73      "
      ]
     },
     "metadata": {},
     "output_type": "display_data"
    }
   ],
   "source": [
    "# We rename the values performer with \"Singer\" and week_position with \"Position.\" So the plot will be more user-friendly\n",
    "\n",
    "new_songs <- new_songs %>%\n",
    "  rename(Singer = performer, Position = week_position)\n",
    "head(new_songs, 3)"
   ]
  },
  {
   "cell_type": "code",
   "execution_count": 6,
   "metadata": {
    "tags": []
   },
   "outputs": [
    {
     "name": "stdout",
     "output_type": "stream",
     "text": [
      "Rows: 387\n",
      "Columns: 2\n",
      "$ Singer   <chr> \"Chuck Berry\", \"Bobby Helms\", \"Chuck Berry\", \"Bing Crosby\", …\n",
      "$ Position <dbl> 83, 57, 73, 86, 44, 66, 69, 35, 45, 53, 70, 83, 89, 80, 76, …\n"
     ]
    }
   ],
   "source": [
    "# We have to understand with how many songs we're dealing with\n",
    "\n",
    "glimpse(new_songs)"
   ]
  },
  {
   "cell_type": "markdown",
   "metadata": {},
   "source": [
    "This notebook is about the artist with the most Christmas hits. But... what's a Christmas hit?\n",
    "\n",
    "Well, here I define a Christmas hit as a Christmas song that has a Position score higher than 93."
   ]
  },
  {
   "cell_type": "code",
   "execution_count": 7,
   "metadata": {
    "tags": []
   },
   "outputs": [],
   "source": [
    "# We filter for the songs that have a Position score above 93\n",
    "\n",
    "filtered_songs <- new_songs %>%\n",
    "  filter(Position > 93)"
   ]
  },
  {
   "cell_type": "code",
   "execution_count": 8,
   "metadata": {
    "tags": []
   },
   "outputs": [],
   "source": [
    "# This is le library that will help us create the plot\n",
    "\n",
    "library(ggplot2)"
   ]
  },
  {
   "cell_type": "markdown",
   "metadata": {},
   "source": [
    "## Plot & Results\n",
    "\n",
    "The plot below displays the names of the singers on the X-axis and their total position (i.e., the sum of the positions of all their Christmas hits) on the Y-axis."
   ]
  },
  {
   "cell_type": "code",
   "execution_count": 9,
   "metadata": {
    "tags": []
   },
   "outputs": [
    {
     "data": {},
     "metadata": {},
     "output_type": "display_data"
    },
    {
     "data": {
      "image/png": "[encoded data removed]",
      "text/plain": [
       "plot without title"
      ]
     },
     "metadata": {},
     "output_type": "display_data",
     "source": "R display func"
    }
   ],
   "source": [
    "# With a little help from ChatGPT we create the plot\n",
    "\n",
    "ggplot(filtered_songs, aes(x = Singer, y = Position)) +\n",
    "  geom_bar(stat = \"identity\") +\n",
    "  labs(x = \"Singer\", y = \"Position\") +\n",
    "  theme(axis.text.x = element_text(angle = 45, hjust = 1)) +\n",
    "  ggtitle(\"Bar Plot of Singer vs. Position\")"
   ]
  },
  {
   "cell_type": "markdown",
   "metadata": {},
   "source": [
    "And the winner is... **Greg Lake**"
   ]
  },
  {
   "cell_type": "markdown",
   "metadata": {},
   "source": [
    "## Author\n",
    "Matteo :)"
   ]
  }
 ],
 "metadata": {
  "kernelspec": {
   "display_name": "R",
   "language": "R",
   "name": "conda-env-r-r"
  },
  "language_info": {
   "codemirror_mode": "r",
   "file_extension": ".r",
   "mimetype": "text/x-r-source",
   "name": "R",
   "pygments_lexer": "r",
   "version": "3.5.1"
  }
 },
 "nbformat": 4,
 "nbformat_minor": 4
}
