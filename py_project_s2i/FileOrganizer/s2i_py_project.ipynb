{
 "cells": [
  {
   "cell_type": "code",
   "execution_count": 1,
   "metadata": {},
   "outputs": [],
   "source": [
    "# Librerie in uso nel codice\n",
    "import os\n",
    "import shutil"
   ]
  },
  {
   "cell_type": "code",
   "execution_count": 3,
   "metadata": {},
   "outputs": [
    {
     "data": {
      "text/plain": [
       "{'name': ['bw',\n",
       "  'ciao',\n",
       "  'daffodil',\n",
       "  'eclipse',\n",
       "  'pippo',\n",
       "  'song1',\n",
       "  'song2',\n",
       "  'trump'],\n",
       " 'raw_type': ['.png', '.txt', '.jpg', '.png', '.odt', '.mp3', '.mp3', '.jpeg'],\n",
       " 'size': [94926, 94926, 94926, 94926, 94926, 94926, 94926, 94926],\n",
       " 'type': ['image', 'doc', 'image', 'image', 'doc', 'audio', 'audio', 'image']}"
      ]
     },
     "execution_count": 3,
     "metadata": {},
     "output_type": "execute_result"
    }
   ],
   "source": [
    "# Ottiene i file in ordine alfabetico\n",
    "path = './files'\n",
    "files = sorted(os.listdir(path))\n",
    "\n",
    "files_data = {'name':[], 'raw_type':[], 'size':[], 'type':[]}\n",
    "map_type = {\n",
    "    'audio': {'.mp3', '.wav', '.flac'},\n",
    "    'doc': {'.txt', '.odt', '.doc', '.docx', '.pdf'},\n",
    "    'image': {'.jpg', '.jpeg', '.png', '.gif', '.bmp', '.svg'},\n",
    "    'video': {'.mp4', '.avi', '.mov', '.mkv', '.wmv'}\n",
    "}\n",
    "\n",
    "# Ottiene info sui files: size, name, extension\n",
    "for file in files:\n",
    "    file_path = os.path.join(path, file)\n",
    "\n",
    "    # Controllo file non è una directory\n",
    "    if os.path.isfile(file_path):\n",
    "\n",
    "        size = os.path.getsize(path+'/'+files[0])\n",
    "        name, extens = os.path.splitext(file)\n",
    "        \n",
    "        if size and name and extens: # Per essere sicuro che i dati esistono\n",
    "            files_data['name'].append(name)\n",
    "            files_data['size'].append(size)\n",
    "            files_data['raw_type'].append(extens)\n",
    "            good_type = 'None' # Nel caso non c'è l'estensione del file, append 'None'\n",
    "\n",
    "            for f_type in map_type.keys():\n",
    "                if extens in map_type[f_type]:\n",
    "                    good_type = f_type\n",
    "                    break\n",
    "            files_data['type'].append(good_type)\n",
    "\n",
    "        else:\n",
    "            print(f'Missing data for {file}!')\n",
    "\n",
    "files_data #Pandas-style\n",
    "    "
   ]
  },
  {
   "cell_type": "code",
   "execution_count": 8,
   "metadata": {},
   "outputs": [],
   "source": [
    "map_dir = {\n",
    "    'audios': {'audio'},\n",
    "    'docs': {'doc'},\n",
    "    'images': {'image'},\n",
    "    'videos': {'video'}\n",
    "}\n",
    "\n",
    "for idx in range(len(files_data['name'])):\n",
    "    dir_name = None\n",
    "    for name in map_dir.keys():\n",
    "        if files_data['type'][idx] in map_dir[name]:\n",
    "            dir_name = name\n",
    "\n",
    "    dir_path = path + '/' + dir_name\n",
    "    if not os.path.exists(dir_path):\n",
    "        os.makedirs(dir_path)\n",
    "    \n",
    "    curr_path = path + '/' + files_data['name'][idx] + files_data['raw_type'][idx]\n",
    "    new_path = dir_path + '/' + files_data['name'][idx] + files_data['raw_type'][idx]\n",
    "    shutil.move(curr_path, new_path)"
   ]
  },
  {
   "cell_type": "code",
   "execution_count": null,
   "metadata": {},
   "outputs": [],
   "source": []
  },
  {
   "cell_type": "code",
   "execution_count": null,
   "metadata": {},
   "outputs": [],
   "source": []
  }
 ],
 "metadata": {
  "kernelspec": {
   "display_name": "py_env",
   "language": "python",
   "name": "python3"
  },
  "language_info": {
   "codemirror_mode": {
    "name": "ipython",
    "version": 3
   },
   "file_extension": ".py",
   "mimetype": "text/x-python",
   "name": "python",
   "nbconvert_exporter": "python",
   "pygments_lexer": "ipython3",
   "version": "3.11.7"
  }
 },
 "nbformat": 4,
 "nbformat_minor": 2
}
